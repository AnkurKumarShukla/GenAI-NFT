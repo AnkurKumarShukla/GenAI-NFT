{
 "cells": [
  {
   "cell_type": "code",
   "execution_count": 17,
   "metadata": {},
   "outputs": [],
   "source": [
    "from fastapi import FastAPI, File, UploadFile, HTTPException\n",
    "from fastapi.middleware.cors import CORSMiddleware\n",
    "from fastapi.responses import JSONResponse\n",
    "from pydantic import BaseModel\n",
    "import os\n",
    "import json\n",
    "from typing import Optional\n",
    "import aiohttp\n",
    "from typing import List\n",
    "from openai import OpenAI, APIError\n",
    "import random\n",
    "# load the .env file\n",
    "from dotenv import load_dotenv\n",
    "\n",
    "prompt= \"Placeholder design for 'ThreePay' payment card (must not have card number and username written on it ) with a sleek and modern aesthetic, featuring the brand name prominently and a sim-like structure for a realistic touch. The design is visually striking and exudes a sense of trustworthiness and professionalism.\"\n",
    "client = OpenAI(api_key=\"sk-OidJwj7keEHJjSHz6vF\")\n",
    "response = client.images.generate(\n",
    "            model=\"dall-e-3\",\n",
    "            prompt=prompt,\n",
    "            size=\"1024x1024\",\n",
    "            quality=\"standard\",\n",
    "            \n",
    "            n=1,\n",
    "        )\n",
    "        "
   ]
  },
  {
   "cell_type": "code",
   "execution_count": 18,
   "metadata": {},
   "outputs": [
    {
     "data": {
      "text/plain": [
       "ImagesResponse(created=1719681442, data=[Image(b64_json=None, revised_prompt=\"Create a placeholder design for a payment card named 'ThreePay'. The card should carry a sleek and modern aesthetic, displaying the brand name prominently. Give it a structure resembling a SIM card for a touch of realism, but do not include a card number or username. The design should be visually striking and give an impression of trustworthiness and professionalism.\", url='https://oaidalleapiprodscus.blob.core.windows.net/private/org-XwgUPq6iaLMyXJEcKb8MTeXs/user-pYJcis2BgHdjGYAjnkvNl5C4/img-JLoFfEsWBwW45krvw37fpsRJ.png?st=2024-06-29T16%3A17%3A22Z&se=2024-06-29T18%3A17%3A22Z&sp=r&sv=2023-11-03&sr=b&rscd=inline&rsct=image/png&skoid=6aaadede-4fb3-4698-a8f6-684d7786b067&sktid=a48cca56-e6da-484e-a814-9c849652bcb3&skt=2024-06-29T05%3A17%3A25Z&ske=2024-06-30T05%3A17%3A25Z&sks=b&skv=2023-11-03&sig=0BsecG/ZuyGuIrxfZCpgNLMlPXAEJ09q/jO5Ig9TEQo%3D')])"
      ]
     },
     "execution_count": 18,
     "metadata": {},
     "output_type": "execute_result"
    }
   ],
   "source": [
    "response"
   ]
  }
 ],
 "metadata": {
  "kernelspec": {
   "display_name": "fast_llm_dependency",
   "language": "python",
   "name": "python3"
  },
  "language_info": {
   "codemirror_mode": {
    "name": "ipython",
    "version": 3
   },
   "file_extension": ".py",
   "mimetype": "text/x-python",
   "name": "python",
   "nbconvert_exporter": "python",
   "pygments_lexer": "ipython3",
   "version": "3.11.5"
  }
 },
 "nbformat": 4,
 "nbformat_minor": 2
}
